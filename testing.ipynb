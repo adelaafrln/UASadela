{
 "cells": [
  {
   "cell_type": "code",
   "execution_count": 1,
   "id": "882ca901-4795-4d8d-85d6-429d6c0fa675",
   "metadata": {
    "scrolled": true
   },
   "outputs": [
    {
     "name": "stdout",
     "output_type": "stream",
     "text": [
      "Jumlah baris dataset: 1273\n",
      "\n",
      "=== Classification Report (Cross-Validation, Semua Data) ===\n",
      "              precision    recall  f1-score   support\n",
      "\n",
      "     Depresi       0.90      0.99      0.94       371\n",
      "      Normal       0.99      0.98      0.99       537\n",
      "       Stres       0.97      0.88      0.93       365\n",
      "\n",
      "    accuracy                           0.96      1273\n",
      "   macro avg       0.95      0.95      0.95      1273\n",
      "weighted avg       0.96      0.96      0.96      1273\n",
      "\n"
     ]
    },
    {
     "data": {
      "text/plain": [
       "['C:\\\\Users\\\\HP CAMO\\\\Downloads\\\\mental_health\\\\mental_health_model.pkl']"
      ]
     },
     "execution_count": 1,
     "metadata": {},
     "output_type": "execute_result"
    }
   ],
   "source": [
    "import pandas as pd\n",
    "import joblib\n",
    "from sklearn.preprocessing import LabelEncoder\n",
    "from sklearn.model_selection import cross_val_predict\n",
    "from sklearn.ensemble import RandomForestClassifier\n",
    "from sklearn.metrics import classification_report\n",
    "\n",
    "# === 1. Load dataset ===\n",
    "df = pd.read_csv(r'C:\\Users\\HP CAMO\\Downloads\\mental_health\\mental_health_dataset.csv')\n",
    "\n",
    "\n",
    "print(\"Jumlah baris dataset:\", len(df))\n",
    "\n",
    "# === 2. Encode kategori ===\n",
    "le_appetite = LabelEncoder()\n",
    "le_stress = LabelEncoder()\n",
    "le_status = LabelEncoder()\n",
    "\n",
    "df['appetite_enc'] = le_appetite.fit_transform(df['appetite'])\n",
    "df['stress_enc'] = le_stress.fit_transform(df['stress_event'])\n",
    "df['status_enc'] = le_status.fit_transform(df['mental_status'])\n",
    "\n",
    "# === 3. Fitur dan target ===\n",
    "X = df[['sleep_hours', 'mood_level', 'appetite_enc', 'concentration', 'stress_enc']]\n",
    "y = df['status_enc']\n",
    "\n",
    "# === 4. Model ===\n",
    "model = RandomForestClassifier(random_state=42, class_weight='balanced')\n",
    "\n",
    "# === 5. Cross-validation prediction (5-fold) ===\n",
    "y_pred_cv = cross_val_predict(model, X, y, cv=5)\n",
    "\n",
    "# === 6. Classification report untuk seluruh data ===\n",
    "print(\"\\n=== Classification Report (Cross-Validation, Semua Data) ===\")\n",
    "print(classification_report(y, y_pred_cv, target_names=le_status.classes_))\n",
    "\n",
    "# === 7. Simpan model hasil training penuh ===\n",
    "model.fit(X, y)\n",
    "joblib.dump(model, r'C:\\Users\\HP CAMO\\Downloads\\mental_health\\mental_health_model.pkl')\n"
   ]
  },
  {
   "cell_type": "code",
   "execution_count": null,
   "id": "d2e156b1-b635-4f69-ae26-5a943953ac86",
   "metadata": {},
   "outputs": [],
   "source": []
  },
  {
   "cell_type": "code",
   "execution_count": null,
   "id": "fc32b5dd-f3bc-45b6-8a72-2f73b01bc3c1",
   "metadata": {},
   "outputs": [],
   "source": []
  }
 ],
 "metadata": {
  "kernelspec": {
   "display_name": "Python 3 (ipykernel)",
   "language": "python",
   "name": "python3"
  },
  "language_info": {
   "codemirror_mode": {
    "name": "ipython",
    "version": 3
   },
   "file_extension": ".py",
   "mimetype": "text/x-python",
   "name": "python",
   "nbconvert_exporter": "python",
   "pygments_lexer": "ipython3",
   "version": "3.12.10"
  }
 },
 "nbformat": 4,
 "nbformat_minor": 5
}
